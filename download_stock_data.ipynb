{
 "cells": [
  {
   "cell_type": "code",
   "execution_count": 1,
   "id": "27d1435a",
   "metadata": {},
   "outputs": [],
   "source": [
    "import logging\n",
    "logging.basicConfig(filename='yfinance.log', level=logging.INFO, format='%(asctime)s: %(levelname)s: %(message)s', force=True)"
   ]
  },
  {
   "cell_type": "code",
   "execution_count": 2,
   "id": "7c538ec7",
   "metadata": {
    "pycharm": {
     "name": "#%%\n"
    }
   },
   "outputs": [],
   "source": [
    "#import libraries\n",
    "\n",
    "import datetime\n",
    "import io\n",
    "import math\n",
    "import matplotlib.pyplot as plt\n",
    "import numpy as np\n",
    "import pandas as pd\n",
    "from pandas_datareader import data as web\n",
    "import random\n",
    "import requests\n",
    "import yfinance as yf"
   ]
  },
  {
   "cell_type": "code",
   "execution_count": 3,
   "id": "6e7fdd8f",
   "metadata": {
    "pycharm": {
     "name": "#%%\n"
    }
   },
   "outputs": [],
   "source": [
    "from get_data import get_index_constituents"
   ]
  },
  {
   "cell_type": "code",
   "execution_count": 4,
   "id": "e150862e",
   "metadata": {
    "pycharm": {
     "name": "#%%\n"
    }
   },
   "outputs": [],
   "source": [
    "sp500 = get_index_constituents('sp500')\n",
    "ftse250 = get_index_constituents('ftse250')\n",
    "ftse100 = get_index_constituents('ftse100')\n",
    "stoxx = get_index_constituents('stoxx')\n",
    "cac_40 = get_index_constituents('cac_40')\n",
    "russell = get_index_constituents('russell')\n",
    "dax = get_index_constituents('dax')\n",
    "\n",
    "aex = get_index_constituents('aex')\n",
    "asx = get_index_constituents('asx')\n",
    "\n",
    "ftsemib = get_index_constituents('ftsemib')\n",
    "ibexnr = get_index_constituents('ibexnr')\n",
    "\n",
    "indices = get_index_constituents('indices')\n",
    "\n",
    "crypto = get_index_constituents('crypto')\n",
    "fx = get_index_constituents('fx')"
   ]
  },
  {
   "cell_type": "code",
   "execution_count": 13,
   "id": "9022919c",
   "metadata": {},
   "outputs": [],
   "source": [
    "nifty50 = get_index_constituents('nifty50')\n",
    "nifty500 = get_index_constituents('nifty500')\n",
    "niftymidcap150 = get_index_constituents('niftymidcap150')\n",
    "niftysmallcap250 = get_index_constituents('niftysmallcap250')\n",
    "\n",
    "nifty_str_convert_dict = {\"nifty50\": nifty50,\n",
    "                          \"nifty500\": nifty500,\n",
    "                          \"niftymidcap150\": niftymidcap150,\n",
    "                          \"niftysmallcap250\": niftysmallcap250}"
   ]
  },
  {
   "cell_type": "code",
   "execution_count": 6,
   "id": "50491561",
   "metadata": {
    "pycharm": {
     "name": "#%%\n"
    }
   },
   "outputs": [],
   "source": [
    "str_convert_dict = {\"aex\": aex,\n",
    "                    \"asx\": asx,\n",
    "                    \"cac_40\": cac_40,\n",
    "                    \"crypto\": crypto,\n",
    "                    \"dax\": dax,\n",
    "                    \"stoxx\": stoxx,\n",
    "                    \"ftse100\": ftse100,\n",
    "                    \"ftse250\": ftse250,\n",
    "                    \"ftsemib\": ftsemib,\n",
    "                    \"fx\": fx,\n",
    "                    \"ibexnr\": ibexnr,\n",
    "                    \"indices\": indices,\n",
    "                    \"sp500\": sp500,\n",
    "                    \"russell\": russell\n",
    "                   }"
   ]
  },
  {
   "cell_type": "code",
   "execution_count": 7,
   "id": "86693600",
   "metadata": {
    "pycharm": {
     "name": "#%%\n"
    }
   },
   "outputs": [],
   "source": [
    "def get_hourly_data(stock):\n",
    "    # to get ticker\n",
    "    ticker = yf.Ticker(stock)\n",
    "    \n",
    "    # get data for last 730 days\n",
    "    start = (datetime.date.today()-datetime.timedelta(729)).strftime(\"%Y-%m-%d\")\n",
    "    end = datetime.date.today().strftime(\"%Y-%m-%d\")\n",
    "\n",
    "    data = ticker.history(start=start, end=end, interval=\"1H\")\n",
    "    data.index.names = ['Timestamp']\n",
    "    data = data.reset_index()\n",
    "    \n",
    "    if data.empty:\n",
    "        logging.error(f'No hourly data for {stock} from {start} to {end}.')\n",
    "        return pd.DataFrame()\n",
    "    \n",
    "    data['Date'] = data['Timestamp'].dt.date\n",
    "    \n",
    "    return data"
   ]
  },
  {
   "cell_type": "code",
   "execution_count": 8,
   "id": "58d79e19",
   "metadata": {
    "pycharm": {
     "name": "#%%\n"
    }
   },
   "outputs": [],
   "source": [
    "def add_hourly_data(stock, index): \n",
    "    stock_head = stock.split('.')[0]\n",
    "    try:\n",
    "        data = pd.read_csv(r\".\\yfinance\\{}\\1H\\{}.csv\".format(index, stock_head), index_col=0)\n",
    "        data_to_add = get_hourly_data(stock)\n",
    "        last_date = data['Date'].iloc[-1]\n",
    "\n",
    "        prev_data = data.where(data['Date'] < last_date)\n",
    "        new_data = data_to_add.where(data_to_add['Date'] >= last_date)\n",
    "\n",
    "        pd.concat([prev_data, new_data]).to_csv(f\"./{index}/1H/{stock_head}.csv\", mode='w', header=True)\n",
    "        logging.info(f\"Updating hourly data for index: '{index}', stock: '{stock_head}'\")\n",
    "    except FileNotFoundError:\n",
    "        data = get_hourly_data(stock)\n",
    "        data.to_csv(f\"./{index}/1H/{stock_head}.csv\", mode='w', header=True)\n",
    "        logging.error(f\"Hourly data added for index: '{index}', stock: '{stock_head}'\")\n",
    "    return"
   ]
  },
  {
   "cell_type": "code",
   "execution_count": 9,
   "id": "84c7b26f",
   "metadata": {
    "pycharm": {
     "name": "#%%\n"
    }
   },
   "outputs": [],
   "source": [
    "def get_5_minutewise_data(stock):\n",
    "    # to get ticker\n",
    "    ticker = yf.Ticker(stock)\n",
    "    \n",
    "    # get data for last 60 days\n",
    "    start = (datetime.date.today()-datetime.timedelta(59)).strftime(\"%Y-%m-%d\")\n",
    "    end = datetime.date.today().strftime(\"%Y-%m-%d\")\n",
    "\n",
    "    data = ticker.history(start=start, end=end, interval=\"5m\")\n",
    "    data.index.names = ['Timestamp']\n",
    "    data = data.reset_index()\n",
    "    \n",
    "    if data.empty:\n",
    "        logging.error(f'No 5 minutewise data for {stock} from {start} to {end}.')\n",
    "        return pd.DataFrame()\n",
    "    \n",
    "    data['Date'] = data['Timestamp'].dt.date\n",
    "    \n",
    "    return data"
   ]
  },
  {
   "cell_type": "code",
   "execution_count": 10,
   "id": "77f847af",
   "metadata": {},
   "outputs": [],
   "source": [
    "def add_5_minutewise_data(stock, index): \n",
    "    stock_head = stock.split('.')[0]\n",
    "    try:\n",
    "        data = pd.read_csv(r\".\\yfinance\\{}\\5m\\{}.csv\".format(index, stock_head), index_col=0)\n",
    "        data_to_add = get_5_minutewise_data(stock)\n",
    "        last_date = data['Date'].iloc[-1]\n",
    "\n",
    "        prev_data = data.where(data['Date'] < last_date)\n",
    "        new_data = data_to_add.where(data_to_add['Date'] >= last_date)\n",
    "\n",
    "        pd.concat([prev_data, new_data]).to_csv(f\"./{index}/5m/{stock_head}.csv\", mode='w', header=True)\n",
    "        logging.info(f\"Updating 5 minutewise data for index: '{index}', stock: '{stock_head}'\")\n",
    "    except FileNotFoundError:\n",
    "        data = get_5_minutewise_data(stock)\n",
    "        data.to_csv(f\"./{index}/5m/{stock_head}.csv\", mode='w', header=True)\n",
    "        logging.error(f\"5 minutewise data added for index: '{index}', stock: '{stock_head}'\")\n",
    "    return"
   ]
  },
  {
   "cell_type": "code",
   "execution_count": 11,
   "id": "0ec9f326",
   "metadata": {
    "pycharm": {
     "name": "#%%\n"
    }
   },
   "outputs": [],
   "source": [
    "def get_minutewise_data(stock):\n",
    "    # to get ticker\n",
    "    ticker = yf.Ticker(stock)\n",
    "    \n",
    "    last_start_date = (datetime.datetime.today() - datetime.timedelta(days=29)).strftime(\"%Y-%m-%d\")\n",
    "    last_end_date = (datetime.datetime.today() - datetime.timedelta(days=28)).strftime(\"%Y-%m-%d\")\n",
    "    data = ticker.history(start=last_start_date, end=last_end_date, interval=\"1m\")\n",
    "    \n",
    "    if data.empty:\n",
    "        logging.error(f'No data for {stock} from {last_start_date} to {last_end_date}.')\n",
    "    \n",
    "    data.index.names = ['Timestamp']\n",
    "    data = data.reset_index()\n",
    "    \n",
    "    for i in range(27, 0, -7):\n",
    "        new_start_date = (datetime.datetime.today() - datetime.timedelta(days=i)).strftime(\"%Y-%m-%d\")\n",
    "        new_end_date = (datetime.datetime.today() - datetime.timedelta(days=i-6)).strftime(\"%Y-%m-%d\")\n",
    "        data_to_add = ticker.history(start=new_start_date, end=new_end_date, interval=\"1m\")\n",
    "        \n",
    "        if data_to_add.empty:\n",
    "            logging.error(f'No data for {stock} from {new_start_date} to {new_end_date}.')\n",
    "            continue\n",
    "\n",
    "        data_to_add.index.names = ['Timestamp']\n",
    "        data_to_add = data_to_add.reset_index()\n",
    "        data = pd.concat([data, data_to_add], axis=0)\n",
    "    \n",
    "    if data.empty:\n",
    "        logging.error(f'No data for {stock} from {last_start_date} to {new_end_date}.')\n",
    "        return pd.DataFrame()\n",
    "    \n",
    "    data['Date'] = data['Timestamp'].dt.date\n",
    "    \n",
    "    return data"
   ]
  },
  {
   "cell_type": "code",
   "execution_count": 12,
   "id": "b4174423",
   "metadata": {},
   "outputs": [],
   "source": [
    "def add_minutewise_data(stock, index): \n",
    "    stock_head = stock.split('.')[0]\n",
    "    try:\n",
    "        data = pd.read_csv(r\".\\yfinance\\{}\\1m\\{}.csv\".format(index, stock_head), index_col=0)\n",
    "        data_to_add = get_minutewise_data(stock)\n",
    "        last_date = data['Date'].iloc[-1]\n",
    "\n",
    "        prev_data = data.where(data['Date'] < last_date)\n",
    "        new_data = data_to_add.where(data_to_add['Date'] >= last_date)\n",
    "\n",
    "        pd.concat([prev_data, new_data]).to_csv(f\"./{index}/1m/{stock_head}.csv\", mode='w', header=True)\n",
    "        logging.info(f\"Updating minutewise data for index: '{index}', stock: '{stock_head}'\")\n",
    "    except FileNotFoundError:\n",
    "        data = get_minutewise_data(stock)\n",
    "        data.to_csv(f\"./{index}/1m/{stock_head}.csv\", mode='w', header=True)\n",
    "        logging.error(f\"Minutewise data added for index: '{index}', stock: '{stock_head}'\")\n",
    "    return"
   ]
  },
  {
   "cell_type": "markdown",
   "id": "f585ff43",
   "metadata": {},
   "source": [
    "### Download Nifty indices stock data"
   ]
  },
  {
   "cell_type": "code",
   "execution_count": 14,
   "id": "f965b55b",
   "metadata": {
    "scrolled": true
   },
   "outputs": [],
   "source": [
    "for index, component in nifty_str_convert_dict.items():\n",
    "    for ticker in component:\n",
    "        add_hourly_data(ticker, index)\n",
    "        add_5_minutewise_data(ticker, index)\n",
    "        add_minutewise_data(ticker, index)"
   ]
  },
  {
   "cell_type": "markdown",
   "id": "1194c645",
   "metadata": {},
   "source": [
    "### Download Global indices stock data"
   ]
  },
  {
   "cell_type": "code",
   "execution_count": 14,
   "id": "6b5ab7e0",
   "metadata": {},
   "outputs": [
    {
     "ename": "IndexError",
     "evalue": "index 2251 is out of bounds for axis 0 with size 2250",
     "output_type": "error",
     "traceback": [
      "\u001b[1;31m---------------------------------------------------------------------------\u001b[0m",
      "\u001b[1;31mFileNotFoundError\u001b[0m                         Traceback (most recent call last)",
      "Cell \u001b[1;32mIn[10], line 4\u001b[0m, in \u001b[0;36madd_5_minutewise_data\u001b[1;34m(stock, index)\u001b[0m\n\u001b[0;32m      3\u001b[0m \u001b[38;5;28;01mtry\u001b[39;00m:\n\u001b[1;32m----> 4\u001b[0m     data \u001b[38;5;241m=\u001b[39m \u001b[43mpd\u001b[49m\u001b[38;5;241;43m.\u001b[39;49m\u001b[43mread_csv\u001b[49m\u001b[43m(\u001b[49m\u001b[38;5;124;43mr\u001b[39;49m\u001b[38;5;124;43m\"\u001b[39;49m\u001b[38;5;124;43m.\u001b[39;49m\u001b[38;5;124;43m\\\u001b[39;49m\u001b[38;5;124;43myfinance\u001b[39;49m\u001b[38;5;124;43m\\\u001b[39;49m\u001b[38;5;132;43;01m{}\u001b[39;49;00m\u001b[38;5;124;43m\\\u001b[39;49m\u001b[38;5;124;43m5m\u001b[39;49m\u001b[38;5;124;43m\\\u001b[39;49m\u001b[38;5;132;43;01m{}\u001b[39;49;00m\u001b[38;5;124;43m.csv\u001b[39;49m\u001b[38;5;124;43m\"\u001b[39;49m\u001b[38;5;241;43m.\u001b[39;49m\u001b[43mformat\u001b[49m\u001b[43m(\u001b[49m\u001b[43mindex\u001b[49m\u001b[43m,\u001b[49m\u001b[43m \u001b[49m\u001b[43mstock_head\u001b[49m\u001b[43m)\u001b[49m\u001b[43m,\u001b[49m\u001b[43m \u001b[49m\u001b[43mindex_col\u001b[49m\u001b[38;5;241;43m=\u001b[39;49m\u001b[38;5;241;43m0\u001b[39;49m\u001b[43m)\u001b[49m\n\u001b[0;32m      5\u001b[0m     data_to_add \u001b[38;5;241m=\u001b[39m get_5_minutewise_data(stock)\n",
      "File \u001b[1;32mc:\\users\\shrey\\appdata\\local\\programs\\python\\python38\\lib\\site-packages\\pandas\\io\\parsers\\readers.py:912\u001b[0m, in \u001b[0;36mread_csv\u001b[1;34m(filepath_or_buffer, sep, delimiter, header, names, index_col, usecols, dtype, engine, converters, true_values, false_values, skipinitialspace, skiprows, skipfooter, nrows, na_values, keep_default_na, na_filter, verbose, skip_blank_lines, parse_dates, infer_datetime_format, keep_date_col, date_parser, date_format, dayfirst, cache_dates, iterator, chunksize, compression, thousands, decimal, lineterminator, quotechar, quoting, doublequote, escapechar, comment, encoding, encoding_errors, dialect, on_bad_lines, delim_whitespace, low_memory, memory_map, float_precision, storage_options, dtype_backend)\u001b[0m\n\u001b[0;32m    910\u001b[0m kwds\u001b[38;5;241m.\u001b[39mupdate(kwds_defaults)\n\u001b[1;32m--> 912\u001b[0m \u001b[38;5;28;01mreturn\u001b[39;00m \u001b[43m_read\u001b[49m\u001b[43m(\u001b[49m\u001b[43mfilepath_or_buffer\u001b[49m\u001b[43m,\u001b[49m\u001b[43m \u001b[49m\u001b[43mkwds\u001b[49m\u001b[43m)\u001b[49m\n",
      "File \u001b[1;32mc:\\users\\shrey\\appdata\\local\\programs\\python\\python38\\lib\\site-packages\\pandas\\io\\parsers\\readers.py:577\u001b[0m, in \u001b[0;36m_read\u001b[1;34m(filepath_or_buffer, kwds)\u001b[0m\n\u001b[0;32m    576\u001b[0m \u001b[38;5;66;03m# Create the parser.\u001b[39;00m\n\u001b[1;32m--> 577\u001b[0m parser \u001b[38;5;241m=\u001b[39m \u001b[43mTextFileReader\u001b[49m\u001b[43m(\u001b[49m\u001b[43mfilepath_or_buffer\u001b[49m\u001b[43m,\u001b[49m\u001b[43m \u001b[49m\u001b[38;5;241;43m*\u001b[39;49m\u001b[38;5;241;43m*\u001b[39;49m\u001b[43mkwds\u001b[49m\u001b[43m)\u001b[49m\n\u001b[0;32m    579\u001b[0m \u001b[38;5;28;01mif\u001b[39;00m chunksize \u001b[38;5;129;01mor\u001b[39;00m iterator:\n",
      "File \u001b[1;32mc:\\users\\shrey\\appdata\\local\\programs\\python\\python38\\lib\\site-packages\\pandas\\io\\parsers\\readers.py:1407\u001b[0m, in \u001b[0;36mTextFileReader.__init__\u001b[1;34m(self, f, engine, **kwds)\u001b[0m\n\u001b[0;32m   1406\u001b[0m \u001b[38;5;28mself\u001b[39m\u001b[38;5;241m.\u001b[39mhandles: IOHandles \u001b[38;5;241m|\u001b[39m \u001b[38;5;28;01mNone\u001b[39;00m \u001b[38;5;241m=\u001b[39m \u001b[38;5;28;01mNone\u001b[39;00m\n\u001b[1;32m-> 1407\u001b[0m \u001b[38;5;28mself\u001b[39m\u001b[38;5;241m.\u001b[39m_engine \u001b[38;5;241m=\u001b[39m \u001b[38;5;28;43mself\u001b[39;49m\u001b[38;5;241;43m.\u001b[39;49m\u001b[43m_make_engine\u001b[49m\u001b[43m(\u001b[49m\u001b[43mf\u001b[49m\u001b[43m,\u001b[49m\u001b[43m \u001b[49m\u001b[38;5;28;43mself\u001b[39;49m\u001b[38;5;241;43m.\u001b[39;49m\u001b[43mengine\u001b[49m\u001b[43m)\u001b[49m\n",
      "File \u001b[1;32mc:\\users\\shrey\\appdata\\local\\programs\\python\\python38\\lib\\site-packages\\pandas\\io\\parsers\\readers.py:1661\u001b[0m, in \u001b[0;36mTextFileReader._make_engine\u001b[1;34m(self, f, engine)\u001b[0m\n\u001b[0;32m   1660\u001b[0m         mode \u001b[38;5;241m+\u001b[39m\u001b[38;5;241m=\u001b[39m \u001b[38;5;124m\"\u001b[39m\u001b[38;5;124mb\u001b[39m\u001b[38;5;124m\"\u001b[39m\n\u001b[1;32m-> 1661\u001b[0m \u001b[38;5;28mself\u001b[39m\u001b[38;5;241m.\u001b[39mhandles \u001b[38;5;241m=\u001b[39m \u001b[43mget_handle\u001b[49m\u001b[43m(\u001b[49m\n\u001b[0;32m   1662\u001b[0m \u001b[43m    \u001b[49m\u001b[43mf\u001b[49m\u001b[43m,\u001b[49m\n\u001b[0;32m   1663\u001b[0m \u001b[43m    \u001b[49m\u001b[43mmode\u001b[49m\u001b[43m,\u001b[49m\n\u001b[0;32m   1664\u001b[0m \u001b[43m    \u001b[49m\u001b[43mencoding\u001b[49m\u001b[38;5;241;43m=\u001b[39;49m\u001b[38;5;28;43mself\u001b[39;49m\u001b[38;5;241;43m.\u001b[39;49m\u001b[43moptions\u001b[49m\u001b[38;5;241;43m.\u001b[39;49m\u001b[43mget\u001b[49m\u001b[43m(\u001b[49m\u001b[38;5;124;43m\"\u001b[39;49m\u001b[38;5;124;43mencoding\u001b[39;49m\u001b[38;5;124;43m\"\u001b[39;49m\u001b[43m,\u001b[49m\u001b[43m \u001b[49m\u001b[38;5;28;43;01mNone\u001b[39;49;00m\u001b[43m)\u001b[49m\u001b[43m,\u001b[49m\n\u001b[0;32m   1665\u001b[0m \u001b[43m    \u001b[49m\u001b[43mcompression\u001b[49m\u001b[38;5;241;43m=\u001b[39;49m\u001b[38;5;28;43mself\u001b[39;49m\u001b[38;5;241;43m.\u001b[39;49m\u001b[43moptions\u001b[49m\u001b[38;5;241;43m.\u001b[39;49m\u001b[43mget\u001b[49m\u001b[43m(\u001b[49m\u001b[38;5;124;43m\"\u001b[39;49m\u001b[38;5;124;43mcompression\u001b[39;49m\u001b[38;5;124;43m\"\u001b[39;49m\u001b[43m,\u001b[49m\u001b[43m \u001b[49m\u001b[38;5;28;43;01mNone\u001b[39;49;00m\u001b[43m)\u001b[49m\u001b[43m,\u001b[49m\n\u001b[0;32m   1666\u001b[0m \u001b[43m    \u001b[49m\u001b[43mmemory_map\u001b[49m\u001b[38;5;241;43m=\u001b[39;49m\u001b[38;5;28;43mself\u001b[39;49m\u001b[38;5;241;43m.\u001b[39;49m\u001b[43moptions\u001b[49m\u001b[38;5;241;43m.\u001b[39;49m\u001b[43mget\u001b[49m\u001b[43m(\u001b[49m\u001b[38;5;124;43m\"\u001b[39;49m\u001b[38;5;124;43mmemory_map\u001b[39;49m\u001b[38;5;124;43m\"\u001b[39;49m\u001b[43m,\u001b[49m\u001b[43m \u001b[49m\u001b[38;5;28;43;01mFalse\u001b[39;49;00m\u001b[43m)\u001b[49m\u001b[43m,\u001b[49m\n\u001b[0;32m   1667\u001b[0m \u001b[43m    \u001b[49m\u001b[43mis_text\u001b[49m\u001b[38;5;241;43m=\u001b[39;49m\u001b[43mis_text\u001b[49m\u001b[43m,\u001b[49m\n\u001b[0;32m   1668\u001b[0m \u001b[43m    \u001b[49m\u001b[43merrors\u001b[49m\u001b[38;5;241;43m=\u001b[39;49m\u001b[38;5;28;43mself\u001b[39;49m\u001b[38;5;241;43m.\u001b[39;49m\u001b[43moptions\u001b[49m\u001b[38;5;241;43m.\u001b[39;49m\u001b[43mget\u001b[49m\u001b[43m(\u001b[49m\u001b[38;5;124;43m\"\u001b[39;49m\u001b[38;5;124;43mencoding_errors\u001b[39;49m\u001b[38;5;124;43m\"\u001b[39;49m\u001b[43m,\u001b[49m\u001b[43m \u001b[49m\u001b[38;5;124;43m\"\u001b[39;49m\u001b[38;5;124;43mstrict\u001b[39;49m\u001b[38;5;124;43m\"\u001b[39;49m\u001b[43m)\u001b[49m\u001b[43m,\u001b[49m\n\u001b[0;32m   1669\u001b[0m \u001b[43m    \u001b[49m\u001b[43mstorage_options\u001b[49m\u001b[38;5;241;43m=\u001b[39;49m\u001b[38;5;28;43mself\u001b[39;49m\u001b[38;5;241;43m.\u001b[39;49m\u001b[43moptions\u001b[49m\u001b[38;5;241;43m.\u001b[39;49m\u001b[43mget\u001b[49m\u001b[43m(\u001b[49m\u001b[38;5;124;43m\"\u001b[39;49m\u001b[38;5;124;43mstorage_options\u001b[39;49m\u001b[38;5;124;43m\"\u001b[39;49m\u001b[43m,\u001b[49m\u001b[43m \u001b[49m\u001b[38;5;28;43;01mNone\u001b[39;49;00m\u001b[43m)\u001b[49m\u001b[43m,\u001b[49m\n\u001b[0;32m   1670\u001b[0m \u001b[43m\u001b[49m\u001b[43m)\u001b[49m\n\u001b[0;32m   1671\u001b[0m \u001b[38;5;28;01massert\u001b[39;00m \u001b[38;5;28mself\u001b[39m\u001b[38;5;241m.\u001b[39mhandles \u001b[38;5;129;01mis\u001b[39;00m \u001b[38;5;129;01mnot\u001b[39;00m \u001b[38;5;28;01mNone\u001b[39;00m\n",
      "File \u001b[1;32mc:\\users\\shrey\\appdata\\local\\programs\\python\\python38\\lib\\site-packages\\pandas\\io\\common.py:859\u001b[0m, in \u001b[0;36mget_handle\u001b[1;34m(path_or_buf, mode, encoding, compression, memory_map, is_text, errors, storage_options)\u001b[0m\n\u001b[0;32m    857\u001b[0m \u001b[38;5;28;01mif\u001b[39;00m ioargs\u001b[38;5;241m.\u001b[39mencoding \u001b[38;5;129;01mand\u001b[39;00m \u001b[38;5;124m\"\u001b[39m\u001b[38;5;124mb\u001b[39m\u001b[38;5;124m\"\u001b[39m \u001b[38;5;129;01mnot\u001b[39;00m \u001b[38;5;129;01min\u001b[39;00m ioargs\u001b[38;5;241m.\u001b[39mmode:\n\u001b[0;32m    858\u001b[0m     \u001b[38;5;66;03m# Encoding\u001b[39;00m\n\u001b[1;32m--> 859\u001b[0m     handle \u001b[38;5;241m=\u001b[39m \u001b[38;5;28;43mopen\u001b[39;49m\u001b[43m(\u001b[49m\n\u001b[0;32m    860\u001b[0m \u001b[43m        \u001b[49m\u001b[43mhandle\u001b[49m\u001b[43m,\u001b[49m\n\u001b[0;32m    861\u001b[0m \u001b[43m        \u001b[49m\u001b[43mioargs\u001b[49m\u001b[38;5;241;43m.\u001b[39;49m\u001b[43mmode\u001b[49m\u001b[43m,\u001b[49m\n\u001b[0;32m    862\u001b[0m \u001b[43m        \u001b[49m\u001b[43mencoding\u001b[49m\u001b[38;5;241;43m=\u001b[39;49m\u001b[43mioargs\u001b[49m\u001b[38;5;241;43m.\u001b[39;49m\u001b[43mencoding\u001b[49m\u001b[43m,\u001b[49m\n\u001b[0;32m    863\u001b[0m \u001b[43m        \u001b[49m\u001b[43merrors\u001b[49m\u001b[38;5;241;43m=\u001b[39;49m\u001b[43merrors\u001b[49m\u001b[43m,\u001b[49m\n\u001b[0;32m    864\u001b[0m \u001b[43m        \u001b[49m\u001b[43mnewline\u001b[49m\u001b[38;5;241;43m=\u001b[39;49m\u001b[38;5;124;43m\"\u001b[39;49m\u001b[38;5;124;43m\"\u001b[39;49m\u001b[43m,\u001b[49m\n\u001b[0;32m    865\u001b[0m \u001b[43m    \u001b[49m\u001b[43m)\u001b[49m\n\u001b[0;32m    866\u001b[0m \u001b[38;5;28;01melse\u001b[39;00m:\n\u001b[0;32m    867\u001b[0m     \u001b[38;5;66;03m# Binary mode\u001b[39;00m\n",
      "\u001b[1;31mFileNotFoundError\u001b[0m: [Errno 2] No such file or directory: '.\\\\yfinance\\\\asx\\\\5m\\\\BKL.csv'",
      "\nDuring handling of the above exception, another exception occurred:\n",
      "\u001b[1;31mIndexError\u001b[0m                                Traceback (most recent call last)",
      "Cell \u001b[1;32mIn[14], line 4\u001b[0m\n\u001b[0;32m      2\u001b[0m \u001b[38;5;28;01mfor\u001b[39;00m ticker \u001b[38;5;129;01min\u001b[39;00m component:\n\u001b[0;32m      3\u001b[0m     add_hourly_data(ticker, index)\n\u001b[1;32m----> 4\u001b[0m     \u001b[43madd_5_minutewise_data\u001b[49m\u001b[43m(\u001b[49m\u001b[43mticker\u001b[49m\u001b[43m,\u001b[49m\u001b[43m \u001b[49m\u001b[43mindex\u001b[49m\u001b[43m)\u001b[49m\n\u001b[0;32m      5\u001b[0m     add_minutewise_data(ticker, index)\n",
      "Cell \u001b[1;32mIn[10], line 14\u001b[0m, in \u001b[0;36madd_5_minutewise_data\u001b[1;34m(stock, index)\u001b[0m\n\u001b[0;32m     12\u001b[0m     logging\u001b[38;5;241m.\u001b[39minfo(\u001b[38;5;124mf\u001b[39m\u001b[38;5;124m\"\u001b[39m\u001b[38;5;124mUpdating 5 minutewise data for index: \u001b[39m\u001b[38;5;124m'\u001b[39m\u001b[38;5;132;01m{\u001b[39;00mindex\u001b[38;5;132;01m}\u001b[39;00m\u001b[38;5;124m'\u001b[39m\u001b[38;5;124m, stock: \u001b[39m\u001b[38;5;124m'\u001b[39m\u001b[38;5;132;01m{\u001b[39;00mstock_head\u001b[38;5;132;01m}\u001b[39;00m\u001b[38;5;124m'\u001b[39m\u001b[38;5;124m\"\u001b[39m)\n\u001b[0;32m     13\u001b[0m \u001b[38;5;28;01mexcept\u001b[39;00m \u001b[38;5;167;01mFileNotFoundError\u001b[39;00m:\n\u001b[1;32m---> 14\u001b[0m     data \u001b[38;5;241m=\u001b[39m \u001b[43mget_5_minutewise_data\u001b[49m\u001b[43m(\u001b[49m\u001b[43mstock\u001b[49m\u001b[43m)\u001b[49m\n\u001b[0;32m     15\u001b[0m     data\u001b[38;5;241m.\u001b[39mto_csv(\u001b[38;5;124mf\u001b[39m\u001b[38;5;124m\"\u001b[39m\u001b[38;5;124m./\u001b[39m\u001b[38;5;132;01m{\u001b[39;00mindex\u001b[38;5;132;01m}\u001b[39;00m\u001b[38;5;124m/5m/\u001b[39m\u001b[38;5;132;01m{\u001b[39;00mstock_head\u001b[38;5;132;01m}\u001b[39;00m\u001b[38;5;124m.csv\u001b[39m\u001b[38;5;124m\"\u001b[39m, mode\u001b[38;5;241m=\u001b[39m\u001b[38;5;124m'\u001b[39m\u001b[38;5;124mw\u001b[39m\u001b[38;5;124m'\u001b[39m, header\u001b[38;5;241m=\u001b[39m\u001b[38;5;28;01mTrue\u001b[39;00m)\n\u001b[0;32m     16\u001b[0m     logging\u001b[38;5;241m.\u001b[39minfo(\u001b[38;5;124mf\u001b[39m\u001b[38;5;124m\"\u001b[39m\u001b[38;5;124m5 minutewise data added for index: \u001b[39m\u001b[38;5;124m'\u001b[39m\u001b[38;5;132;01m{\u001b[39;00mindex\u001b[38;5;132;01m}\u001b[39;00m\u001b[38;5;124m'\u001b[39m\u001b[38;5;124m, stock: \u001b[39m\u001b[38;5;124m'\u001b[39m\u001b[38;5;132;01m{\u001b[39;00mstock_head\u001b[38;5;132;01m}\u001b[39;00m\u001b[38;5;124m'\u001b[39m\u001b[38;5;124m\"\u001b[39m)\n",
      "Cell \u001b[1;32mIn[9], line 9\u001b[0m, in \u001b[0;36mget_5_minutewise_data\u001b[1;34m(stock)\u001b[0m\n\u001b[0;32m      6\u001b[0m start \u001b[38;5;241m=\u001b[39m (datetime\u001b[38;5;241m.\u001b[39mdate\u001b[38;5;241m.\u001b[39mtoday()\u001b[38;5;241m-\u001b[39mdatetime\u001b[38;5;241m.\u001b[39mtimedelta(\u001b[38;5;241m59\u001b[39m))\u001b[38;5;241m.\u001b[39mstrftime(\u001b[38;5;124m\"\u001b[39m\u001b[38;5;124m%\u001b[39m\u001b[38;5;124mY-\u001b[39m\u001b[38;5;124m%\u001b[39m\u001b[38;5;124mm-\u001b[39m\u001b[38;5;132;01m%d\u001b[39;00m\u001b[38;5;124m\"\u001b[39m)\n\u001b[0;32m      7\u001b[0m end \u001b[38;5;241m=\u001b[39m datetime\u001b[38;5;241m.\u001b[39mdate\u001b[38;5;241m.\u001b[39mtoday()\u001b[38;5;241m.\u001b[39mstrftime(\u001b[38;5;124m\"\u001b[39m\u001b[38;5;124m%\u001b[39m\u001b[38;5;124mY-\u001b[39m\u001b[38;5;124m%\u001b[39m\u001b[38;5;124mm-\u001b[39m\u001b[38;5;132;01m%d\u001b[39;00m\u001b[38;5;124m\"\u001b[39m)\n\u001b[1;32m----> 9\u001b[0m data \u001b[38;5;241m=\u001b[39m \u001b[43mticker\u001b[49m\u001b[38;5;241;43m.\u001b[39;49m\u001b[43mhistory\u001b[49m\u001b[43m(\u001b[49m\u001b[43mstart\u001b[49m\u001b[38;5;241;43m=\u001b[39;49m\u001b[43mstart\u001b[49m\u001b[43m,\u001b[49m\u001b[43m \u001b[49m\u001b[43mend\u001b[49m\u001b[38;5;241;43m=\u001b[39;49m\u001b[43mend\u001b[49m\u001b[43m,\u001b[49m\u001b[43m \u001b[49m\u001b[43minterval\u001b[49m\u001b[38;5;241;43m=\u001b[39;49m\u001b[38;5;124;43m\"\u001b[39;49m\u001b[38;5;124;43m5m\u001b[39;49m\u001b[38;5;124;43m\"\u001b[39;49m\u001b[43m)\u001b[49m\n\u001b[0;32m     10\u001b[0m data\u001b[38;5;241m.\u001b[39mindex\u001b[38;5;241m.\u001b[39mnames \u001b[38;5;241m=\u001b[39m [\u001b[38;5;124m'\u001b[39m\u001b[38;5;124mTimestamp\u001b[39m\u001b[38;5;124m'\u001b[39m]\n\u001b[0;32m     11\u001b[0m data \u001b[38;5;241m=\u001b[39m data\u001b[38;5;241m.\u001b[39mreset_index()\n",
      "File \u001b[1;32mc:\\users\\shrey\\appdata\\local\\programs\\python\\python38\\lib\\site-packages\\yfinance\\utils.py:105\u001b[0m, in \u001b[0;36mlog_indent_decorator.<locals>.wrapper\u001b[1;34m(*args, **kwargs)\u001b[0m\n\u001b[0;32m    102\u001b[0m logger\u001b[38;5;241m.\u001b[39mdebug(\u001b[38;5;124mf\u001b[39m\u001b[38;5;124m'\u001b[39m\u001b[38;5;124mEntering \u001b[39m\u001b[38;5;132;01m{\u001b[39;00mfunc\u001b[38;5;241m.\u001b[39m\u001b[38;5;18m__name__\u001b[39m\u001b[38;5;132;01m}\u001b[39;00m\u001b[38;5;124m()\u001b[39m\u001b[38;5;124m'\u001b[39m)\n\u001b[0;32m    104\u001b[0m \u001b[38;5;28;01mwith\u001b[39;00m IndentationContext():\n\u001b[1;32m--> 105\u001b[0m     result \u001b[38;5;241m=\u001b[39m \u001b[43mfunc\u001b[49m\u001b[43m(\u001b[49m\u001b[38;5;241;43m*\u001b[39;49m\u001b[43margs\u001b[49m\u001b[43m,\u001b[49m\u001b[43m \u001b[49m\u001b[38;5;241;43m*\u001b[39;49m\u001b[38;5;241;43m*\u001b[39;49m\u001b[43mkwargs\u001b[49m\u001b[43m)\u001b[49m\n\u001b[0;32m    107\u001b[0m logger\u001b[38;5;241m.\u001b[39mdebug(\u001b[38;5;124mf\u001b[39m\u001b[38;5;124m'\u001b[39m\u001b[38;5;124mExiting \u001b[39m\u001b[38;5;132;01m{\u001b[39;00mfunc\u001b[38;5;241m.\u001b[39m\u001b[38;5;18m__name__\u001b[39m\u001b[38;5;132;01m}\u001b[39;00m\u001b[38;5;124m()\u001b[39m\u001b[38;5;124m'\u001b[39m)\n\u001b[0;32m    108\u001b[0m \u001b[38;5;28;01mreturn\u001b[39;00m result\n",
      "File \u001b[1;32mc:\\users\\shrey\\appdata\\local\\programs\\python\\python38\\lib\\site-packages\\yfinance\\base.py:383\u001b[0m, in \u001b[0;36mTickerBase.history\u001b[1;34m(self, period, interval, start, end, prepost, actions, auto_adjust, back_adjust, repair, keepna, proxy, rounding, timeout, debug, raise_errors)\u001b[0m\n\u001b[0;32m    381\u001b[0m df \u001b[38;5;241m=\u001b[39m quotes\u001b[38;5;241m.\u001b[39msort_index()\n\u001b[0;32m    382\u001b[0m \u001b[38;5;28;01mif\u001b[39;00m dividends\u001b[38;5;241m.\u001b[39mshape[\u001b[38;5;241m0\u001b[39m] \u001b[38;5;241m>\u001b[39m \u001b[38;5;241m0\u001b[39m:\n\u001b[1;32m--> 383\u001b[0m     df \u001b[38;5;241m=\u001b[39m \u001b[43mutils\u001b[49m\u001b[38;5;241;43m.\u001b[39;49m\u001b[43msafe_merge_dfs\u001b[49m\u001b[43m(\u001b[49m\u001b[43mdf\u001b[49m\u001b[43m,\u001b[49m\u001b[43m \u001b[49m\u001b[43mdividends\u001b[49m\u001b[43m,\u001b[49m\u001b[43m \u001b[49m\u001b[43minterval\u001b[49m\u001b[43m)\u001b[49m\n\u001b[0;32m    384\u001b[0m \u001b[38;5;28;01mif\u001b[39;00m \u001b[38;5;124m\"\u001b[39m\u001b[38;5;124mDividends\u001b[39m\u001b[38;5;124m\"\u001b[39m \u001b[38;5;129;01min\u001b[39;00m df\u001b[38;5;241m.\u001b[39mcolumns:\n\u001b[0;32m    385\u001b[0m     df\u001b[38;5;241m.\u001b[39mloc[df[\u001b[38;5;124m\"\u001b[39m\u001b[38;5;124mDividends\u001b[39m\u001b[38;5;124m\"\u001b[39m]\u001b[38;5;241m.\u001b[39misna(), \u001b[38;5;124m\"\u001b[39m\u001b[38;5;124mDividends\u001b[39m\u001b[38;5;124m\"\u001b[39m] \u001b[38;5;241m=\u001b[39m \u001b[38;5;241m0\u001b[39m\n",
      "File \u001b[1;32mc:\\users\\shrey\\appdata\\local\\programs\\python\\python38\\lib\\site-packages\\yfinance\\utils.py:747\u001b[0m, in \u001b[0;36msafe_merge_dfs\u001b[1;34m(df_main, df_sub, interval)\u001b[0m\n\u001b[0;32m    745\u001b[0m         df \u001b[38;5;241m=\u001b[39m df\u001b[38;5;241m.\u001b[39mdrop(\u001b[38;5;124m\"\u001b[39m\u001b[38;5;124m_NewIndex\u001b[39m\u001b[38;5;124m\"\u001b[39m, axis\u001b[38;5;241m=\u001b[39m\u001b[38;5;241m1\u001b[39m)\n\u001b[0;32m    746\u001b[0m     \u001b[38;5;28;01mreturn\u001b[39;00m df\n\u001b[1;32m--> 747\u001b[0m new_index \u001b[38;5;241m=\u001b[39m \u001b[43mdf_main\u001b[49m\u001b[38;5;241;43m.\u001b[39;49m\u001b[43mindex\u001b[49m\u001b[43m[\u001b[49m\u001b[43mindices\u001b[49m\u001b[43m]\u001b[49m\n\u001b[0;32m    748\u001b[0m df_sub \u001b[38;5;241m=\u001b[39m _reindex_events(df_sub, new_index, data_col)\n\u001b[0;32m    750\u001b[0m df \u001b[38;5;241m=\u001b[39m df_main\u001b[38;5;241m.\u001b[39mjoin(df_sub)\n",
      "File \u001b[1;32mc:\\users\\shrey\\appdata\\local\\programs\\python\\python38\\lib\\site-packages\\pandas\\core\\indexes\\base.py:5195\u001b[0m, in \u001b[0;36mIndex.__getitem__\u001b[1;34m(self, key)\u001b[0m\n\u001b[0;32m   5192\u001b[0m     \u001b[38;5;28;01melse\u001b[39;00m:\n\u001b[0;32m   5193\u001b[0m         key \u001b[38;5;241m=\u001b[39m np\u001b[38;5;241m.\u001b[39masarray(key, dtype\u001b[38;5;241m=\u001b[39m\u001b[38;5;28mbool\u001b[39m)\n\u001b[1;32m-> 5195\u001b[0m result \u001b[38;5;241m=\u001b[39m \u001b[43mgetitem\u001b[49m\u001b[43m(\u001b[49m\u001b[43mkey\u001b[49m\u001b[43m)\u001b[49m\n\u001b[0;32m   5196\u001b[0m \u001b[38;5;66;03m# Because we ruled out integer above, we always get an arraylike here\u001b[39;00m\n\u001b[0;32m   5197\u001b[0m \u001b[38;5;28;01mif\u001b[39;00m result\u001b[38;5;241m.\u001b[39mndim \u001b[38;5;241m>\u001b[39m \u001b[38;5;241m1\u001b[39m:\n",
      "File \u001b[1;32mc:\\users\\shrey\\appdata\\local\\programs\\python\\python38\\lib\\site-packages\\pandas\\core\\arrays\\datetimelike.py:370\u001b[0m, in \u001b[0;36mDatetimeLikeArrayMixin.__getitem__\u001b[1;34m(self, key)\u001b[0m\n\u001b[0;32m    362\u001b[0m \u001b[38;5;250m\u001b[39m\u001b[38;5;124;03m\"\"\"\u001b[39;00m\n\u001b[0;32m    363\u001b[0m \u001b[38;5;124;03mThis getitem defers to the underlying array, which by-definition can\u001b[39;00m\n\u001b[0;32m    364\u001b[0m \u001b[38;5;124;03monly handle list-likes, slices, and integer scalars\u001b[39;00m\n\u001b[0;32m    365\u001b[0m \u001b[38;5;124;03m\"\"\"\u001b[39;00m\n\u001b[0;32m    366\u001b[0m \u001b[38;5;66;03m# Use cast as we know we will get back a DatetimeLikeArray or DTScalar,\u001b[39;00m\n\u001b[0;32m    367\u001b[0m \u001b[38;5;66;03m# but skip evaluating the Union at runtime for performance\u001b[39;00m\n\u001b[0;32m    368\u001b[0m \u001b[38;5;66;03m# (see https://github.com/pandas-dev/pandas/pull/44624)\u001b[39;00m\n\u001b[0;32m    369\u001b[0m result \u001b[38;5;241m=\u001b[39m cast(\n\u001b[1;32m--> 370\u001b[0m     \u001b[38;5;124m\"\u001b[39m\u001b[38;5;124mUnion[DatetimeLikeArrayT, DTScalarOrNaT]\u001b[39m\u001b[38;5;124m\"\u001b[39m, \u001b[38;5;28;43msuper\u001b[39;49m\u001b[43m(\u001b[49m\u001b[43m)\u001b[49m\u001b[38;5;241;43m.\u001b[39;49m\u001b[38;5;21;43m__getitem__\u001b[39;49m\u001b[43m(\u001b[49m\u001b[43mkey\u001b[49m\u001b[43m)\u001b[49m\n\u001b[0;32m    371\u001b[0m )\n\u001b[0;32m    372\u001b[0m \u001b[38;5;28;01mif\u001b[39;00m lib\u001b[38;5;241m.\u001b[39mis_scalar(result):\n\u001b[0;32m    373\u001b[0m     \u001b[38;5;28;01mreturn\u001b[39;00m result\n",
      "File \u001b[1;32mc:\\users\\shrey\\appdata\\local\\programs\\python\\python38\\lib\\site-packages\\pandas\\core\\arrays\\_mixins.py:281\u001b[0m, in \u001b[0;36mNDArrayBackedExtensionArray.__getitem__\u001b[1;34m(self, key)\u001b[0m\n\u001b[0;32m    279\u001b[0m key \u001b[38;5;241m=\u001b[39m extract_array(key, extract_numpy\u001b[38;5;241m=\u001b[39m\u001b[38;5;28;01mTrue\u001b[39;00m)  \u001b[38;5;66;03m# type: ignore[assignment]\u001b[39;00m\n\u001b[0;32m    280\u001b[0m key \u001b[38;5;241m=\u001b[39m check_array_indexer(\u001b[38;5;28mself\u001b[39m, key)\n\u001b[1;32m--> 281\u001b[0m result \u001b[38;5;241m=\u001b[39m \u001b[38;5;28;43mself\u001b[39;49m\u001b[38;5;241;43m.\u001b[39;49m\u001b[43m_ndarray\u001b[49m\u001b[43m[\u001b[49m\u001b[43mkey\u001b[49m\u001b[43m]\u001b[49m\n\u001b[0;32m    282\u001b[0m \u001b[38;5;28;01mif\u001b[39;00m lib\u001b[38;5;241m.\u001b[39mis_scalar(result):\n\u001b[0;32m    283\u001b[0m     \u001b[38;5;28;01mreturn\u001b[39;00m \u001b[38;5;28mself\u001b[39m\u001b[38;5;241m.\u001b[39m_box_func(result)\n",
      "\u001b[1;31mIndexError\u001b[0m: index 2251 is out of bounds for axis 0 with size 2250"
     ]
    }
   ],
   "source": [
    "for index, component in str_convert_dict.items():\n",
    "    for ticker in component:\n",
    "        add_hourly_data(ticker, index)\n",
    "        add_5_minutewise_data(ticker, index)\n",
    "        add_minutewise_data(ticker, index)"
   ]
  },
  {
   "cell_type": "markdown",
   "id": "71d08391",
   "metadata": {},
   "source": [
    "### Download currencies data"
   ]
  },
  {
   "cell_type": "code",
   "execution_count": null,
   "id": "44d9016a",
   "metadata": {
    "scrolled": true
   },
   "outputs": [],
   "source": [
    "currencies = ['GBP', 'EUR', 'CHF', 'RMB', 'AUD', 'USD', 'CAD', '']\n",
    "for currency in currencies:\n",
    "    if currency in ('USD', ''):\n",
    "        continue\n",
    "    for currency2 in currencies:\n",
    "        if currency == currency2:\n",
    "            continue\n",
    "        index = 'fx'\n",
    "        ticker = currency + currency2 + '=X'\n",
    "        \n",
    "        print(ticker)\n",
    "        \n",
    "        add_hourly_data(ticker, index)\n",
    "        add_5_minutewise_data(ticker, index)\n",
    "        add_minutewise_data(ticker, index)"
   ]
  },
  {
   "cell_type": "code",
   "execution_count": null,
   "id": "10597e89",
   "metadata": {},
   "outputs": [],
   "source": []
  }
 ],
 "metadata": {
  "kernelspec": {
   "display_name": "Python 3 (ipykernel)",
   "language": "python",
   "name": "python3"
  },
  "language_info": {
   "codemirror_mode": {
    "name": "ipython",
    "version": 3
   },
   "file_extension": ".py",
   "mimetype": "text/x-python",
   "name": "python",
   "nbconvert_exporter": "python",
   "pygments_lexer": "ipython3",
   "version": "3.8.6"
  }
 },
 "nbformat": 4,
 "nbformat_minor": 5
}
